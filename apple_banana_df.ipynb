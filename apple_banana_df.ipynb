{
  "nbformat": 4,
  "nbformat_minor": 0,
  "metadata": {
    "colab": {
      "provenance": [],
      "include_colab_link": true
    },
    "kernelspec": {
      "name": "python3",
      "display_name": "Python 3"
    },
    "language_info": {
      "name": "python"
    }
  },
  "cells": [
    {
      "cell_type": "markdown",
      "metadata": {
        "id": "view-in-github",
        "colab_type": "text"
      },
      "source": [
        "<a href=\"https://colab.research.google.com/github/JurijJusel/Image/blob/t5-dir-reader/apple_banana_df.ipynb\" target=\"_parent\"><img src=\"https://colab.research.google.com/assets/colab-badge.svg\" alt=\"Open In Colab\"/></a>"
      ]
    },
    {
      "cell_type": "markdown",
      "source": [
        "## Libraries\n"
      ],
      "metadata": {
        "id": "mdhf7nNYyLcS"
      }
    },
    {
      "cell_type": "code",
      "execution_count": null,
      "metadata": {
        "id": "UM3rmEqeq159"
      },
      "outputs": [],
      "source": [
        "import pandas as pd\n",
        "from operator import itemgetter\n",
        "import csv\n",
        "import cv2\n",
        "import numpy as np\n",
        "import matplotlib.pyplot as plt\n",
        "import os"
      ]
    },
    {
      "cell_type": "code",
      "source": [
        "from google.colab import files\n",
        "from IPython.display import Image"
      ],
      "metadata": {
        "id": "WzkUhysRD9gL"
      },
      "execution_count": null,
      "outputs": []
    },
    {
      "cell_type": "code",
      "source": [
        "from google.colab import drive\n",
        "drive.mount('/content/drive')"
      ],
      "metadata": {
        "colab": {
          "base_uri": "https://localhost:8080/"
        },
        "id": "S04dbLoMQh3f",
        "outputId": "ca283fce-7b2d-43d9-dc56-103eb5df4399"
      },
      "execution_count": null,
      "outputs": [
        {
          "output_type": "stream",
          "name": "stdout",
          "text": [
            "Mounted at /content/drive\n"
          ]
        }
      ]
    },
    {
      "cell_type": "markdown",
      "source": [
        "## Data Preprocessing"
      ],
      "metadata": {
        "id": "B9eiPkvtyT78"
      }
    },
    {
      "cell_type": "code",
      "source": [
        "apple_banana_train_path = '/content/drive/MyDrive/Colab Notebooks/dataset/train'"
      ],
      "metadata": {
        "id": "3-Du4zT8RCO3"
      },
      "execution_count": null,
      "outputs": []
    },
    {
      "cell_type": "code",
      "source": [
        "image_url = []\n",
        "folder_name=[]\n",
        "for file_path, folders, files in os.walk(apple_banana_train_path):\n",
        "  for file in files:\n",
        "      full_path = os.path.join(file_path, file)\n",
        "      image_url.append(full_path)\n",
        "      direct = file_path.split('/')[7:]\n",
        "      folder_name.append('/'.join(direct))\n",
        "\n"
      ],
      "metadata": {
        "id": "GYlT9-QfRnGI"
      },
      "execution_count": null,
      "outputs": []
    },
    {
      "cell_type": "code",
      "source": [
        "folder_name_df = pd.DataFrame(folder_name, columns=['name'])\n",
        "img_path_df = pd.DataFrame(image_url,columns=['image_path'] )\n",
        "df = pd.concat([folder_name_df, img_path_df], axis=1)\n",
        "df.to_csv('/content/drive/MyDrive/Colab Notebooks/apple_banana.csv', index=False)"
      ],
      "metadata": {
        "id": "42mt3t6IZKjH"
      },
      "execution_count": null,
      "outputs": []
    },
    {
      "cell_type": "code",
      "source": [
        "apple_banana_df = '/content/drive/MyDrive/Colab Notebooks/apple_banana.csv'"
      ],
      "metadata": {
        "id": "Qo29knu1Frwb"
      },
      "execution_count": null,
      "outputs": []
    },
    {
      "cell_type": "code",
      "source": [
        "read_apple_banana_df = pd.read_csv(apple_banana_df)\n",
        "read_apple_banana_df.info()\n",
        "# read_apple_banana_df.describe()\n",
        "# read_apple_banana_df.head()\n",
        "# read_apple_banana_df.apply(lambda x: x.upper())\n",
        "# read_apple_banana_df.tail(3)  # paskutiniai 3 eilutes"
      ],
      "metadata": {
        "colab": {
          "base_uri": "https://localhost:8080/"
        },
        "id": "Xpd2fTc0cwAy",
        "outputId": "7d5daab9-b81b-41f7-dac9-b1afa8b20895"
      },
      "execution_count": null,
      "outputs": [
        {
          "output_type": "stream",
          "name": "stdout",
          "text": [
            "<class 'pandas.core.frame.DataFrame'>\n",
            "RangeIndex: 143 entries, 0 to 142\n",
            "Data columns (total 2 columns):\n",
            " #   Column      Non-Null Count  Dtype \n",
            "---  ------      --------------  ----- \n",
            " 0   name        143 non-null    object\n",
            " 1   image_path  143 non-null    object\n",
            "dtypes: object(2)\n",
            "memory usage: 2.4+ KB\n"
          ]
        }
      ]
    },
    {
      "cell_type": "code",
      "source": [
        "read_apple_banana_df['image_path']\n"
      ],
      "metadata": {
        "id": "YHsX9mClcwOT"
      },
      "execution_count": null,
      "outputs": []
    },
    {
      "cell_type": "code",
      "source": [
        "for line in range(len(read_apple_banana_df)):\n",
        "    line_path=read_apple_banana_df['image_path']\n"
      ],
      "metadata": {
        "id": "9p_s-zTqdoGe"
      },
      "execution_count": null,
      "outputs": []
    },
    {
      "cell_type": "code",
      "source": [
        "image_lst=[]\n",
        "folder_name=[]\n",
        "for line in line_path:\n",
        "    # print(line)\n",
        "    img_path = cv2.imread(line)\n",
        "    direct = line.split('/')[7:]\n",
        "    folder_name.append('/'.join(direct))\n",
        "    img = plt.imread(line)\n",
        "    gray_img = cv2.cvtColor(img_path, cv2.COLOR_RGB2GRAY)\n",
        "    img_resized = cv2.resize(gray_img, (122,122))\n",
        "    img_array = np.array(img_resized)\n",
        "    image_gray_lst=[item for sublist in img_array for item in sublist]\n",
        "    image_lst.append(image_gray_lst)\n",
        "# print(direct)"
      ],
      "metadata": {
        "id": "khzUi7BjeQpw"
      },
      "execution_count": null,
      "outputs": []
    },
    {
      "cell_type": "code",
      "source": [],
      "metadata": {
        "id": "A-PTNMxkggqO"
      },
      "execution_count": null,
      "outputs": []
    },
    {
      "cell_type": "code",
      "source": [
        "img_data_df = pd.DataFrame(image_lst)\n",
        "name_df = pd.DataFrame(folder_name, columns=['image_name'])\n",
        "apple_banana_df_grey = pd.concat([img_data_df, name_df], axis=1)\n",
        "apple_banana_df_grey.to_csv('/content/drive/MyDrive/Colab Notebooks/apple_banana_grey_df.csv', index=False)\n",
        "       "
      ],
      "metadata": {
        "id": "nLd2Xr1qeQs5"
      },
      "execution_count": null,
      "outputs": []
    },
    {
      "cell_type": "code",
      "source": [
        "apple_banana_grey_df = '/content/drive/MyDrive/Colab Notebooks/apple_banana_grey_df.csv'\n",
        "read_df = pd.read_csv(apple_banana_grey_df)\n",
        "# read_df.info()\n",
        "# read_df.describe()\n",
        "read_df\n",
        "# read_df.tail(3)  # paskutiniai 3 eilutes"
      ],
      "metadata": {
        "colab": {
          "base_uri": "https://localhost:8080/",
          "height": 349
        },
        "id": "4erkniB_eQv4",
        "outputId": "af6bbcca-35ef-4f35-c0b2-6eee369e8c7c"
      },
      "execution_count": null,
      "outputs": [
        {
          "output_type": "execute_result",
          "data": {
            "text/plain": [
              "       0    1    2    3    4    5    6    7    8    9  ...  14875  14876  \\\n",
              "0     -1   -1   -1   -1   -1   -1   -1   -1   -1   -1  ...     -1     -1   \n",
              "1     -1   -1   -1   -1   -1   -1   -1   -1   -1   -1  ...     -1     -1   \n",
              "2   -122 -121 -123  126 -126 -120 -118 -117 -118 -121  ...    -18    -29   \n",
              "3     -1   -1   -1   -1   -1   -1   -1   -1   -1   -1  ...     -1     -1   \n",
              "4     -1   -1   -1   -1   -1   -1   -1   -1   -1   -1  ...     -1     -1   \n",
              "..   ...  ...  ...  ...  ...  ...  ...  ...  ...  ...  ...    ...    ...   \n",
              "138   -1   -1   -1   -1   -1   -1   -1   -1   -1   -1  ...     -1     -1   \n",
              "139  -76  -68  -61  -42  -32  -43  -54  -53  -79  -82  ...   -102     -2   \n",
              "140   -2   -2   -2   -2   -2   -2   -2   -2   -2   -2  ...     -2     -2   \n",
              "141   -1   -1   -1   -1   -1   -1   -1   -1   -1   -1  ...     -1     -1   \n",
              "142  -58  -56  -56  -56  -56  -56  -56  -56  -56  -56  ...    -57    -57   \n",
              "\n",
              "     14877  14878  14879  14880  14881  14882  14883           image_name  \n",
              "0       -1     -1     -1     -1     -1     -1     -1    apple/Image_1.jpg  \n",
              "1       -1     -1     -1     -1     -1     -1     -1   apple/Image_31.jpg  \n",
              "2      -37    -42    -43    -33    -51    -41    -44   apple/Image_19.jpg  \n",
              "3       -1     -1     -1     -1     -1     -1     -1   apple/Image_28.jpg  \n",
              "4       -1     -1     -1     -1     -1     -1     -1   apple/Image_18.jpg  \n",
              "..     ...    ...    ...    ...    ...    ...    ...                  ...  \n",
              "138     -1     -1     -1     -1     -1     -1     -1  banana/Image_95.jpg  \n",
              "139     -1     -1     -1     -1     -1     -1     -1  banana/Image_92.jpg  \n",
              "140     -2     -2     -2     -2     -2     -2     -2  banana/Image_93.jpg  \n",
              "141     -1     -1     -1     -1     -1     -1     -1  banana/Image_96.jpg  \n",
              "142    -57    -57    -57    -57    -57    -57    -60  banana/Image_97.jpg  \n",
              "\n",
              "[143 rows x 14885 columns]"
            ],
            "text/html": [
              "\n",
              "  <div id=\"df-2fd624e8-e30a-4da7-a9e5-fafed1abe27e\">\n",
              "    <div class=\"colab-df-container\">\n",
              "      <div>\n",
              "<style scoped>\n",
              "    .dataframe tbody tr th:only-of-type {\n",
              "        vertical-align: middle;\n",
              "    }\n",
              "\n",
              "    .dataframe tbody tr th {\n",
              "        vertical-align: top;\n",
              "    }\n",
              "\n",
              "    .dataframe thead th {\n",
              "        text-align: right;\n",
              "    }\n",
              "</style>\n",
              "<table border=\"1\" class=\"dataframe\">\n",
              "  <thead>\n",
              "    <tr style=\"text-align: right;\">\n",
              "      <th></th>\n",
              "      <th>0</th>\n",
              "      <th>1</th>\n",
              "      <th>2</th>\n",
              "      <th>3</th>\n",
              "      <th>4</th>\n",
              "      <th>5</th>\n",
              "      <th>6</th>\n",
              "      <th>7</th>\n",
              "      <th>8</th>\n",
              "      <th>9</th>\n",
              "      <th>...</th>\n",
              "      <th>14875</th>\n",
              "      <th>14876</th>\n",
              "      <th>14877</th>\n",
              "      <th>14878</th>\n",
              "      <th>14879</th>\n",
              "      <th>14880</th>\n",
              "      <th>14881</th>\n",
              "      <th>14882</th>\n",
              "      <th>14883</th>\n",
              "      <th>image_name</th>\n",
              "    </tr>\n",
              "  </thead>\n",
              "  <tbody>\n",
              "    <tr>\n",
              "      <th>0</th>\n",
              "      <td>-1</td>\n",
              "      <td>-1</td>\n",
              "      <td>-1</td>\n",
              "      <td>-1</td>\n",
              "      <td>-1</td>\n",
              "      <td>-1</td>\n",
              "      <td>-1</td>\n",
              "      <td>-1</td>\n",
              "      <td>-1</td>\n",
              "      <td>-1</td>\n",
              "      <td>...</td>\n",
              "      <td>-1</td>\n",
              "      <td>-1</td>\n",
              "      <td>-1</td>\n",
              "      <td>-1</td>\n",
              "      <td>-1</td>\n",
              "      <td>-1</td>\n",
              "      <td>-1</td>\n",
              "      <td>-1</td>\n",
              "      <td>-1</td>\n",
              "      <td>apple/Image_1.jpg</td>\n",
              "    </tr>\n",
              "    <tr>\n",
              "      <th>1</th>\n",
              "      <td>-1</td>\n",
              "      <td>-1</td>\n",
              "      <td>-1</td>\n",
              "      <td>-1</td>\n",
              "      <td>-1</td>\n",
              "      <td>-1</td>\n",
              "      <td>-1</td>\n",
              "      <td>-1</td>\n",
              "      <td>-1</td>\n",
              "      <td>-1</td>\n",
              "      <td>...</td>\n",
              "      <td>-1</td>\n",
              "      <td>-1</td>\n",
              "      <td>-1</td>\n",
              "      <td>-1</td>\n",
              "      <td>-1</td>\n",
              "      <td>-1</td>\n",
              "      <td>-1</td>\n",
              "      <td>-1</td>\n",
              "      <td>-1</td>\n",
              "      <td>apple/Image_31.jpg</td>\n",
              "    </tr>\n",
              "    <tr>\n",
              "      <th>2</th>\n",
              "      <td>-122</td>\n",
              "      <td>-121</td>\n",
              "      <td>-123</td>\n",
              "      <td>126</td>\n",
              "      <td>-126</td>\n",
              "      <td>-120</td>\n",
              "      <td>-118</td>\n",
              "      <td>-117</td>\n",
              "      <td>-118</td>\n",
              "      <td>-121</td>\n",
              "      <td>...</td>\n",
              "      <td>-18</td>\n",
              "      <td>-29</td>\n",
              "      <td>-37</td>\n",
              "      <td>-42</td>\n",
              "      <td>-43</td>\n",
              "      <td>-33</td>\n",
              "      <td>-51</td>\n",
              "      <td>-41</td>\n",
              "      <td>-44</td>\n",
              "      <td>apple/Image_19.jpg</td>\n",
              "    </tr>\n",
              "    <tr>\n",
              "      <th>3</th>\n",
              "      <td>-1</td>\n",
              "      <td>-1</td>\n",
              "      <td>-1</td>\n",
              "      <td>-1</td>\n",
              "      <td>-1</td>\n",
              "      <td>-1</td>\n",
              "      <td>-1</td>\n",
              "      <td>-1</td>\n",
              "      <td>-1</td>\n",
              "      <td>-1</td>\n",
              "      <td>...</td>\n",
              "      <td>-1</td>\n",
              "      <td>-1</td>\n",
              "      <td>-1</td>\n",
              "      <td>-1</td>\n",
              "      <td>-1</td>\n",
              "      <td>-1</td>\n",
              "      <td>-1</td>\n",
              "      <td>-1</td>\n",
              "      <td>-1</td>\n",
              "      <td>apple/Image_28.jpg</td>\n",
              "    </tr>\n",
              "    <tr>\n",
              "      <th>4</th>\n",
              "      <td>-1</td>\n",
              "      <td>-1</td>\n",
              "      <td>-1</td>\n",
              "      <td>-1</td>\n",
              "      <td>-1</td>\n",
              "      <td>-1</td>\n",
              "      <td>-1</td>\n",
              "      <td>-1</td>\n",
              "      <td>-1</td>\n",
              "      <td>-1</td>\n",
              "      <td>...</td>\n",
              "      <td>-1</td>\n",
              "      <td>-1</td>\n",
              "      <td>-1</td>\n",
              "      <td>-1</td>\n",
              "      <td>-1</td>\n",
              "      <td>-1</td>\n",
              "      <td>-1</td>\n",
              "      <td>-1</td>\n",
              "      <td>-1</td>\n",
              "      <td>apple/Image_18.jpg</td>\n",
              "    </tr>\n",
              "    <tr>\n",
              "      <th>...</th>\n",
              "      <td>...</td>\n",
              "      <td>...</td>\n",
              "      <td>...</td>\n",
              "      <td>...</td>\n",
              "      <td>...</td>\n",
              "      <td>...</td>\n",
              "      <td>...</td>\n",
              "      <td>...</td>\n",
              "      <td>...</td>\n",
              "      <td>...</td>\n",
              "      <td>...</td>\n",
              "      <td>...</td>\n",
              "      <td>...</td>\n",
              "      <td>...</td>\n",
              "      <td>...</td>\n",
              "      <td>...</td>\n",
              "      <td>...</td>\n",
              "      <td>...</td>\n",
              "      <td>...</td>\n",
              "      <td>...</td>\n",
              "      <td>...</td>\n",
              "    </tr>\n",
              "    <tr>\n",
              "      <th>138</th>\n",
              "      <td>-1</td>\n",
              "      <td>-1</td>\n",
              "      <td>-1</td>\n",
              "      <td>-1</td>\n",
              "      <td>-1</td>\n",
              "      <td>-1</td>\n",
              "      <td>-1</td>\n",
              "      <td>-1</td>\n",
              "      <td>-1</td>\n",
              "      <td>-1</td>\n",
              "      <td>...</td>\n",
              "      <td>-1</td>\n",
              "      <td>-1</td>\n",
              "      <td>-1</td>\n",
              "      <td>-1</td>\n",
              "      <td>-1</td>\n",
              "      <td>-1</td>\n",
              "      <td>-1</td>\n",
              "      <td>-1</td>\n",
              "      <td>-1</td>\n",
              "      <td>banana/Image_95.jpg</td>\n",
              "    </tr>\n",
              "    <tr>\n",
              "      <th>139</th>\n",
              "      <td>-76</td>\n",
              "      <td>-68</td>\n",
              "      <td>-61</td>\n",
              "      <td>-42</td>\n",
              "      <td>-32</td>\n",
              "      <td>-43</td>\n",
              "      <td>-54</td>\n",
              "      <td>-53</td>\n",
              "      <td>-79</td>\n",
              "      <td>-82</td>\n",
              "      <td>...</td>\n",
              "      <td>-102</td>\n",
              "      <td>-2</td>\n",
              "      <td>-1</td>\n",
              "      <td>-1</td>\n",
              "      <td>-1</td>\n",
              "      <td>-1</td>\n",
              "      <td>-1</td>\n",
              "      <td>-1</td>\n",
              "      <td>-1</td>\n",
              "      <td>banana/Image_92.jpg</td>\n",
              "    </tr>\n",
              "    <tr>\n",
              "      <th>140</th>\n",
              "      <td>-2</td>\n",
              "      <td>-2</td>\n",
              "      <td>-2</td>\n",
              "      <td>-2</td>\n",
              "      <td>-2</td>\n",
              "      <td>-2</td>\n",
              "      <td>-2</td>\n",
              "      <td>-2</td>\n",
              "      <td>-2</td>\n",
              "      <td>-2</td>\n",
              "      <td>...</td>\n",
              "      <td>-2</td>\n",
              "      <td>-2</td>\n",
              "      <td>-2</td>\n",
              "      <td>-2</td>\n",
              "      <td>-2</td>\n",
              "      <td>-2</td>\n",
              "      <td>-2</td>\n",
              "      <td>-2</td>\n",
              "      <td>-2</td>\n",
              "      <td>banana/Image_93.jpg</td>\n",
              "    </tr>\n",
              "    <tr>\n",
              "      <th>141</th>\n",
              "      <td>-1</td>\n",
              "      <td>-1</td>\n",
              "      <td>-1</td>\n",
              "      <td>-1</td>\n",
              "      <td>-1</td>\n",
              "      <td>-1</td>\n",
              "      <td>-1</td>\n",
              "      <td>-1</td>\n",
              "      <td>-1</td>\n",
              "      <td>-1</td>\n",
              "      <td>...</td>\n",
              "      <td>-1</td>\n",
              "      <td>-1</td>\n",
              "      <td>-1</td>\n",
              "      <td>-1</td>\n",
              "      <td>-1</td>\n",
              "      <td>-1</td>\n",
              "      <td>-1</td>\n",
              "      <td>-1</td>\n",
              "      <td>-1</td>\n",
              "      <td>banana/Image_96.jpg</td>\n",
              "    </tr>\n",
              "    <tr>\n",
              "      <th>142</th>\n",
              "      <td>-58</td>\n",
              "      <td>-56</td>\n",
              "      <td>-56</td>\n",
              "      <td>-56</td>\n",
              "      <td>-56</td>\n",
              "      <td>-56</td>\n",
              "      <td>-56</td>\n",
              "      <td>-56</td>\n",
              "      <td>-56</td>\n",
              "      <td>-56</td>\n",
              "      <td>...</td>\n",
              "      <td>-57</td>\n",
              "      <td>-57</td>\n",
              "      <td>-57</td>\n",
              "      <td>-57</td>\n",
              "      <td>-57</td>\n",
              "      <td>-57</td>\n",
              "      <td>-57</td>\n",
              "      <td>-57</td>\n",
              "      <td>-60</td>\n",
              "      <td>banana/Image_97.jpg</td>\n",
              "    </tr>\n",
              "  </tbody>\n",
              "</table>\n",
              "<p>143 rows × 14885 columns</p>\n",
              "</div>\n",
              "      <button class=\"colab-df-convert\" onclick=\"convertToInteractive('df-2fd624e8-e30a-4da7-a9e5-fafed1abe27e')\"\n",
              "              title=\"Convert this dataframe to an interactive table.\"\n",
              "              style=\"display:none;\">\n",
              "        \n",
              "  <svg xmlns=\"http://www.w3.org/2000/svg\" height=\"24px\"viewBox=\"0 0 24 24\"\n",
              "       width=\"24px\">\n",
              "    <path d=\"M0 0h24v24H0V0z\" fill=\"none\"/>\n",
              "    <path d=\"M18.56 5.44l.94 2.06.94-2.06 2.06-.94-2.06-.94-.94-2.06-.94 2.06-2.06.94zm-11 1L8.5 8.5l.94-2.06 2.06-.94-2.06-.94L8.5 2.5l-.94 2.06-2.06.94zm10 10l.94 2.06.94-2.06 2.06-.94-2.06-.94-.94-2.06-.94 2.06-2.06.94z\"/><path d=\"M17.41 7.96l-1.37-1.37c-.4-.4-.92-.59-1.43-.59-.52 0-1.04.2-1.43.59L10.3 9.45l-7.72 7.72c-.78.78-.78 2.05 0 2.83L4 21.41c.39.39.9.59 1.41.59.51 0 1.02-.2 1.41-.59l7.78-7.78 2.81-2.81c.8-.78.8-2.07 0-2.86zM5.41 20L4 18.59l7.72-7.72 1.47 1.35L5.41 20z\"/>\n",
              "  </svg>\n",
              "      </button>\n",
              "      \n",
              "  <style>\n",
              "    .colab-df-container {\n",
              "      display:flex;\n",
              "      flex-wrap:wrap;\n",
              "      gap: 12px;\n",
              "    }\n",
              "\n",
              "    .colab-df-convert {\n",
              "      background-color: #E8F0FE;\n",
              "      border: none;\n",
              "      border-radius: 50%;\n",
              "      cursor: pointer;\n",
              "      display: none;\n",
              "      fill: #1967D2;\n",
              "      height: 32px;\n",
              "      padding: 0 0 0 0;\n",
              "      width: 32px;\n",
              "    }\n",
              "\n",
              "    .colab-df-convert:hover {\n",
              "      background-color: #E2EBFA;\n",
              "      box-shadow: 0px 1px 2px rgba(60, 64, 67, 0.3), 0px 1px 3px 1px rgba(60, 64, 67, 0.15);\n",
              "      fill: #174EA6;\n",
              "    }\n",
              "\n",
              "    [theme=dark] .colab-df-convert {\n",
              "      background-color: #3B4455;\n",
              "      fill: #D2E3FC;\n",
              "    }\n",
              "\n",
              "    [theme=dark] .colab-df-convert:hover {\n",
              "      background-color: #434B5C;\n",
              "      box-shadow: 0px 1px 3px 1px rgba(0, 0, 0, 0.15);\n",
              "      filter: drop-shadow(0px 1px 2px rgba(0, 0, 0, 0.3));\n",
              "      fill: #FFFFFF;\n",
              "    }\n",
              "  </style>\n",
              "\n",
              "      <script>\n",
              "        const buttonEl =\n",
              "          document.querySelector('#df-2fd624e8-e30a-4da7-a9e5-fafed1abe27e button.colab-df-convert');\n",
              "        buttonEl.style.display =\n",
              "          google.colab.kernel.accessAllowed ? 'block' : 'none';\n",
              "\n",
              "        async function convertToInteractive(key) {\n",
              "          const element = document.querySelector('#df-2fd624e8-e30a-4da7-a9e5-fafed1abe27e');\n",
              "          const dataTable =\n",
              "            await google.colab.kernel.invokeFunction('convertToInteractive',\n",
              "                                                     [key], {});\n",
              "          if (!dataTable) return;\n",
              "\n",
              "          const docLinkHtml = 'Like what you see? Visit the ' +\n",
              "            '<a target=\"_blank\" href=https://colab.research.google.com/notebooks/data_table.ipynb>data table notebook</a>'\n",
              "            + ' to learn more about interactive tables.';\n",
              "          element.innerHTML = '';\n",
              "          dataTable['output_type'] = 'display_data';\n",
              "          await google.colab.output.renderOutput(dataTable, element);\n",
              "          const docLink = document.createElement('div');\n",
              "          docLink.innerHTML = docLinkHtml;\n",
              "          element.appendChild(docLink);\n",
              "        }\n",
              "      </script>\n",
              "    </div>\n",
              "  </div>\n",
              "  "
            ]
          },
          "metadata": {},
          "execution_count": 132
        },
        {
          "output_type": "stream",
          "name": "stdout",
          "text": [
            "Warning: Total number of columns (14885) exceeds max_columns (20) limiting to first (20) columns.\n"
          ]
        }
      ]
    },
    {
      "cell_type": "code",
      "source": [
        "img = plt.imread('/content/drive/MyDrive/Colab Notebooks/dataset/train/apple/Image_34.jpg')\n",
        "plt.imshow(img)"
      ],
      "metadata": {
        "colab": {
          "base_uri": "https://localhost:8080/",
          "height": 286
        },
        "id": "UnU3rCezToR9",
        "outputId": "709faad9-c3f3-47a9-f388-e1562dee5ebf"
      },
      "execution_count": null,
      "outputs": [
        {
          "output_type": "execute_result",
          "data": {
            "text/plain": [
              "<matplotlib.image.AxesImage at 0x7f5dfff78250>"
            ]
          },
          "metadata": {},
          "execution_count": 134
        },
        {
          "output_type": "display_data",
          "data": {
            "text/plain": [
              "<Figure size 432x288 with 1 Axes>"
            ],
            "image/png": "[encoded data removed]"
          },
          "metadata": {
            "needs_background": "light"
          }
        }
      ]
    }
  ]
}